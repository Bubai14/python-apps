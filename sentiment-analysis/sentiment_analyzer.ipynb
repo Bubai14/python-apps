{
 "cells": [
  {
   "cell_type": "markdown",
   "id": "ac3e5c61",
   "metadata": {},
   "source": [
    "### Load the book"
   ]
  },
  {
   "cell_type": "code",
   "execution_count": 5,
   "id": "00792c0b",
   "metadata": {},
   "outputs": [
    {
     "data": {
      "text/plain": [
       "str"
      ]
     },
     "execution_count": 5,
     "metadata": {},
     "output_type": "execute_result"
    }
   ],
   "source": [
    "with open(\"files/miracle_in_the_andes.txt\") as file:\n",
    "    book = file.read()\n",
    "type(book)"
   ]
  },
  {
   "cell_type": "markdown",
   "id": "65e3c2e4",
   "metadata": {},
   "source": [
    "### Count the Chapters"
   ]
  },
  {
   "cell_type": "markdown",
   "id": "51ce4b17",
   "metadata": {},
   "source": [
    "Using String method"
   ]
  },
  {
   "cell_type": "code",
   "execution_count": 2,
   "id": "720d4807",
   "metadata": {},
   "outputs": [
    {
     "data": {
      "text/plain": [
       "11"
      ]
     },
     "execution_count": 2,
     "metadata": {},
     "output_type": "execute_result"
    }
   ],
   "source": [
    "book.count(\"Chapter\")"
   ]
  },
  {
   "cell_type": "markdown",
   "id": "b9e12ceb",
   "metadata": {},
   "source": [
    "Using Regex"
   ]
  },
  {
   "cell_type": "code",
   "execution_count": 3,
   "id": "2b094f34",
   "metadata": {},
   "outputs": [
    {
     "data": {
      "text/plain": [
       "10"
      ]
     },
     "execution_count": 3,
     "metadata": {},
     "output_type": "execute_result"
    }
   ],
   "source": [
    "import re\n",
    "pattern = re.compile(\"Chapter [0-9]+\") ## + is used to denote 1 or more numbers after 0-9, as 0-9 searches only for single digits\n",
    "findings = re.findall(pattern, book)\n",
    "len(findings)"
   ]
  },
  {
   "cell_type": "markdown",
   "id": "78e3d955",
   "metadata": {},
   "source": [
    "#### Find the sentences where love is used"
   ]
  },
  {
   "cell_type": "code",
   "execution_count": 9,
   "id": "b7478d6e",
   "metadata": {},
   "outputs": [
    {
     "data": {
      "text/plain": [
       "67"
      ]
     },
     "execution_count": 9,
     "metadata": {},
     "output_type": "execute_result"
    }
   ],
   "source": [
    "pattern = re.compile(\"[A-Z]{1}[^.]*[^a-zA-Z]+love[^a-zA-Z]+[^.]*.\")## {1} Exactly one occurence, {^.}Everything other than ., * zero or more occurence\n",
    "findings = re.findall(pattern, book)\n",
    "len(findings)"
   ]
  },
  {
   "cell_type": "code",
   "execution_count": null,
   "id": "20d8c670",
   "metadata": {},
   "outputs": [],
   "source": []
  }
 ],
 "metadata": {
  "kernelspec": {
   "display_name": "Python 3 (ipykernel)",
   "language": "python",
   "name": "python3"
  },
  "language_info": {
   "codemirror_mode": {
    "name": "ipython",
    "version": 3
   },
   "file_extension": ".py",
   "mimetype": "text/x-python",
   "name": "python",
   "nbconvert_exporter": "python",
   "pygments_lexer": "ipython3",
   "version": "3.9.13"
  }
 },
 "nbformat": 4,
 "nbformat_minor": 5
}
